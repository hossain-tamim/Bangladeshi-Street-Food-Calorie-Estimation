{
 "cells": [
  {
   "cell_type": "code",
   "execution_count": 1,
   "id": "bd7f07b1",
   "metadata": {
    "_cell_guid": "b1076dfc-b9ad-4769-8c92-a6c4dae69d19",
    "_uuid": "8f2839f25d086af736a60e9eeb907d3b93b6e0e5",
    "execution": {
     "iopub.execute_input": "2025-07-07T13:48:43.274813Z",
     "iopub.status.busy": "2025-07-07T13:48:43.274594Z",
     "iopub.status.idle": "2025-07-07T13:49:59.833850Z",
     "shell.execute_reply": "2025-07-07T13:49:59.832939Z"
    },
    "papermill": {
     "duration": 76.564319,
     "end_time": "2025-07-07T13:49:59.835372",
     "exception": false,
     "start_time": "2025-07-07T13:48:43.271053",
     "status": "completed"
    },
    "tags": []
   },
   "outputs": [
    {
     "name": "stdout",
     "output_type": "stream",
     "text": [
      "\u001b[2K   \u001b[90m━━━━━━━━━━━━━━━━━━━━━━━━━━━━━━━━━━━━━━━━\u001b[0m \u001b[32m1.0/1.0 MB\u001b[0m \u001b[31m18.6 MB/s\u001b[0m eta \u001b[36m0:00:00\u001b[0m\r\n",
      "\u001b[2K   \u001b[90m━━━━━━━━━━━━━━━━━━━━━━━━━━━━━━━━━━━━━━━━\u001b[0m \u001b[32m363.4/363.4 MB\u001b[0m \u001b[31m4.7 MB/s\u001b[0m eta \u001b[36m0:00:00\u001b[0m\r\n",
      "\u001b[2K   \u001b[90m━━━━━━━━━━━━━━━━━━━━━━━━━━━━━━━━━━━━━━━━\u001b[0m \u001b[32m664.8/664.8 MB\u001b[0m \u001b[31m2.0 MB/s\u001b[0m eta \u001b[36m0:00:00\u001b[0m\r\n",
      "\u001b[2K   \u001b[90m━━━━━━━━━━━━━━━━━━━━━━━━━━━━━━━━━━━━━━━━\u001b[0m \u001b[32m211.5/211.5 MB\u001b[0m \u001b[31m2.5 MB/s\u001b[0m eta \u001b[36m0:00:00\u001b[0m\r\n",
      "\u001b[2K   \u001b[90m━━━━━━━━━━━━━━━━━━━━━━━━━━━━━━━━━━━━━━━━\u001b[0m \u001b[32m56.3/56.3 MB\u001b[0m \u001b[31m8.7 MB/s\u001b[0m eta \u001b[36m0:00:00\u001b[0m\r\n",
      "\u001b[2K   \u001b[90m━━━━━━━━━━━━━━━━━━━━━━━━━━━━━━━━━━━━━━━━\u001b[0m \u001b[32m127.9/127.9 MB\u001b[0m \u001b[31m13.6 MB/s\u001b[0m eta \u001b[36m0:00:00\u001b[0m\r\n",
      "\u001b[2K   \u001b[90m━━━━━━━━━━━━━━━━━━━━━━━━━━━━━━━━━━━━━━━━\u001b[0m \u001b[32m207.5/207.5 MB\u001b[0m \u001b[31m8.3 MB/s\u001b[0m eta \u001b[36m0:00:00\u001b[0m\r\n",
      "\u001b[2K   \u001b[90m━━━━━━━━━━━━━━━━━━━━━━━━━━━━━━━━━━━━━━━━\u001b[0m \u001b[32m21.1/21.1 MB\u001b[0m \u001b[31m71.5 MB/s\u001b[0m eta \u001b[36m0:00:00\u001b[0m\r\n",
      "\u001b[?25h"
     ]
    }
   ],
   "source": [
    "!pip install -q ultralytics PyYAML\n"
   ]
  },
  {
   "cell_type": "code",
   "execution_count": 2,
   "id": "42a43ca0",
   "metadata": {
    "execution": {
     "iopub.execute_input": "2025-07-07T13:49:59.877949Z",
     "iopub.status.busy": "2025-07-07T13:49:59.877661Z",
     "iopub.status.idle": "2025-07-07T13:50:06.130242Z",
     "shell.execute_reply": "2025-07-07T13:50:06.129620Z"
    },
    "papermill": {
     "duration": 6.274102,
     "end_time": "2025-07-07T13:50:06.131578",
     "exception": false,
     "start_time": "2025-07-07T13:49:59.857476",
     "status": "completed"
    },
    "tags": []
   },
   "outputs": [
    {
     "name": "stdout",
     "output_type": "stream",
     "text": [
      "Creating new Ultralytics Settings v0.0.6 file ✅ \n",
      "View Ultralytics Settings with 'yolo settings' or at '/root/.config/Ultralytics/settings.json'\n",
      "Update Settings with 'yolo settings key=value', i.e. 'yolo settings runs_dir=path/to/dir'. For help see https://docs.ultralytics.com/quickstart/#ultralytics-settings.\n"
     ]
    }
   ],
   "source": [
    "import datetime\n",
    "import shutil\n",
    "from pathlib import Path\n",
    "from collections import Counter\n",
    "\n",
    "import yaml\n",
    "import numpy as np\n",
    "import pandas as pd\n",
    "from ultralytics import YOLO\n",
    "from sklearn.model_selection import KFold\n",
    "import glob, os\n",
    "from PIL import Image"
   ]
  },
  {
   "cell_type": "code",
   "execution_count": 3,
   "id": "0337b7c7",
   "metadata": {
    "execution": {
     "iopub.execute_input": "2025-07-07T13:50:06.172146Z",
     "iopub.status.busy": "2025-07-07T13:50:06.171797Z",
     "iopub.status.idle": "2025-07-07T13:50:38.235953Z",
     "shell.execute_reply": "2025-07-07T13:50:38.235251Z"
    },
    "papermill": {
     "duration": 32.085434,
     "end_time": "2025-07-07T13:50:38.237401",
     "exception": false,
     "start_time": "2025-07-07T13:50:06.151967",
     "status": "completed"
    },
    "tags": []
   },
   "outputs": [],
   "source": [
    "TARGET_IMAGES_PATH = '/kaggle/working/ALL_DATASET/full_dataset/images/'\n",
    "TARGET_LABELS_PATH = '/kaggle/working/ALL_DATASET/full_dataset/labels/'\n",
    "\n",
    "source_folder_path = \"/kaggle/input/foodds-final/Dataset/{split}/{type}\"\n",
    "splits = [\"train\", \"valid\"]\n",
    "types = [\"images/*.jpg\", \"labels/*.txt\"]\n",
    "\n",
    "os.makedirs(TARGET_IMAGES_PATH, exist_ok=True)\n",
    "os.makedirs(TARGET_LABELS_PATH, exist_ok=True)\n",
    "\n",
    "image_paths = list()\n",
    "label_paths = list()\n",
    "\n",
    "for split in splits:\n",
    "    for data_type in types:\n",
    "        files = glob.glob(source_folder_path.format(split=split, type=data_type))\n",
    "        for file_ in files:\n",
    "            if \"image\" in data_type:\n",
    "                shutil.copy(file_, TARGET_IMAGES_PATH)\n",
    "            else:\n",
    "                shutil.copy(file_, TARGET_LABELS_PATH)\n",
    "\n",
    "# Store image and label paths for future use\n",
    "image_paths = glob.glob(TARGET_IMAGES_PATH + \"*.jpg\")\n",
    "label_paths = glob.glob(TARGET_LABELS_PATH + \"*.txt\")"
   ]
  },
  {
   "cell_type": "code",
   "execution_count": 4,
   "id": "cfc5b7a0",
   "metadata": {
    "execution": {
     "iopub.execute_input": "2025-07-07T13:50:38.277899Z",
     "iopub.status.busy": "2025-07-07T13:50:38.277646Z",
     "iopub.status.idle": "2025-07-07T13:50:38.322749Z",
     "shell.execute_reply": "2025-07-07T13:50:38.322024Z"
    },
    "papermill": {
     "duration": 0.066161,
     "end_time": "2025-07-07T13:50:38.323778",
     "exception": false,
     "start_time": "2025-07-07T13:50:38.257617",
     "status": "completed"
    },
    "tags": []
   },
   "outputs": [
    {
     "name": "stdout",
     "output_type": "stream",
     "text": [
      "[('Beguni', 0), ('Coin', 1), ('Peaju', 2), ('Puri', 3), ('Singara', 4), ('Somusa', 5)]\n"
     ]
    }
   ],
   "source": [
    "dataset_path = Path('/kaggle/working/ALL_DATASET/full_dataset') # replace with 'path/to/dataset' for your custom data\n",
    "labels = sorted(dataset_path.rglob(\"*labels/*.txt\")) # all data in 'labels'\n",
    "\n",
    "yaml_file = '/kaggle/input/foodds-final/Dataset/data.yaml'  # your data YAML with data directories and names dictionary\n",
    "with open(yaml_file, 'r', encoding=\"utf8\") as y:\n",
    "    classes = yaml.safe_load(y)['names']\n",
    "cls_idx = list(range(len(classes)))\n",
    "print(list(zip(classes, cls_idx)))\n"
   ]
  },
  {
   "cell_type": "code",
   "execution_count": 5,
   "id": "eab1ca4b",
   "metadata": {
    "execution": {
     "iopub.execute_input": "2025-07-07T13:50:38.363153Z",
     "iopub.status.busy": "2025-07-07T13:50:38.362932Z",
     "iopub.status.idle": "2025-07-07T13:50:38.374841Z",
     "shell.execute_reply": "2025-07-07T13:50:38.374108Z"
    },
    "papermill": {
     "duration": 0.032764,
     "end_time": "2025-07-07T13:50:38.375911",
     "exception": false,
     "start_time": "2025-07-07T13:50:38.343147",
     "status": "completed"
    },
    "tags": []
   },
   "outputs": [],
   "source": [
    "indx = [l.stem for l in labels] # uses base filename as ID (no extension)\n",
    "labels_df = pd.DataFrame([], columns=cls_idx, index=indx)"
   ]
  },
  {
   "cell_type": "code",
   "execution_count": 6,
   "id": "ccf91992",
   "metadata": {
    "execution": {
     "iopub.execute_input": "2025-07-07T13:50:38.416300Z",
     "iopub.status.busy": "2025-07-07T13:50:38.416036Z",
     "iopub.status.idle": "2025-07-07T13:50:39.832587Z",
     "shell.execute_reply": "2025-07-07T13:50:39.831975Z"
    },
    "papermill": {
     "duration": 1.437818,
     "end_time": "2025-07-07T13:50:39.833703",
     "exception": false,
     "start_time": "2025-07-07T13:50:38.395885",
     "status": "completed"
    },
    "tags": []
   },
   "outputs": [
    {
     "name": "stderr",
     "output_type": "stream",
     "text": [
      "/tmp/ipykernel_19/3131205890.py:13: FutureWarning: Downcasting object dtype arrays on .fillna, .ffill, .bfill is deprecated and will change in a future version. Call result.infer_objects(copy=False) instead. To opt-in to the future behavior, set `pd.set_option('future.no_silent_downcasting', True)`\n",
      "  labels_df = labels_df.fillna(0.0) # replace `nan` values with `0.0`\n"
     ]
    },
    {
     "data": {
      "text/html": [
       "<div>\n",
       "<style scoped>\n",
       "    .dataframe tbody tr th:only-of-type {\n",
       "        vertical-align: middle;\n",
       "    }\n",
       "\n",
       "    .dataframe tbody tr th {\n",
       "        vertical-align: top;\n",
       "    }\n",
       "\n",
       "    .dataframe thead th {\n",
       "        text-align: right;\n",
       "    }\n",
       "</style>\n",
       "<table border=\"1\" class=\"dataframe\">\n",
       "  <thead>\n",
       "    <tr style=\"text-align: right;\">\n",
       "      <th></th>\n",
       "      <th>0</th>\n",
       "      <th>1</th>\n",
       "      <th>2</th>\n",
       "      <th>3</th>\n",
       "      <th>4</th>\n",
       "      <th>5</th>\n",
       "    </tr>\n",
       "  </thead>\n",
       "  <tbody>\n",
       "    <tr>\n",
       "      <th>00000001_resized_png.rf.96da3a5cd0e190e00aa4f24987f72848</th>\n",
       "      <td>0.0</td>\n",
       "      <td>0.0</td>\n",
       "      <td>7.0</td>\n",
       "      <td>0.0</td>\n",
       "      <td>0.0</td>\n",
       "      <td>0.0</td>\n",
       "    </tr>\n",
       "    <tr>\n",
       "      <th>00000002_resized_png.rf.17018bf1b1ef711c31e89e349d3b89e1</th>\n",
       "      <td>0.0</td>\n",
       "      <td>0.0</td>\n",
       "      <td>16.0</td>\n",
       "      <td>0.0</td>\n",
       "      <td>0.0</td>\n",
       "      <td>0.0</td>\n",
       "    </tr>\n",
       "    <tr>\n",
       "      <th>00000002_resized_png.rf.71c93ebfd030ffad185e53dcade6dbfe</th>\n",
       "      <td>0.0</td>\n",
       "      <td>0.0</td>\n",
       "      <td>16.0</td>\n",
       "      <td>0.0</td>\n",
       "      <td>0.0</td>\n",
       "      <td>0.0</td>\n",
       "    </tr>\n",
       "    <tr>\n",
       "      <th>00000006_resized_png.rf.3eed21752d5275f1dcafe7f612f90023</th>\n",
       "      <td>0.0</td>\n",
       "      <td>0.0</td>\n",
       "      <td>17.0</td>\n",
       "      <td>0.0</td>\n",
       "      <td>0.0</td>\n",
       "      <td>0.0</td>\n",
       "    </tr>\n",
       "    <tr>\n",
       "      <th>00000006_resized_png.rf.48bdac5b83c70bbeeff465851964c3e2</th>\n",
       "      <td>0.0</td>\n",
       "      <td>0.0</td>\n",
       "      <td>17.0</td>\n",
       "      <td>0.0</td>\n",
       "      <td>0.0</td>\n",
       "      <td>0.0</td>\n",
       "    </tr>\n",
       "    <tr>\n",
       "      <th>...</th>\n",
       "      <td>...</td>\n",
       "      <td>...</td>\n",
       "      <td>...</td>\n",
       "      <td>...</td>\n",
       "      <td>...</td>\n",
       "      <td>...</td>\n",
       "    </tr>\n",
       "    <tr>\n",
       "      <th>samos-214-_jpg.rf.8a60dd9b70a16bc815f62f4e6fba15af</th>\n",
       "      <td>0.0</td>\n",
       "      <td>0.0</td>\n",
       "      <td>0.0</td>\n",
       "      <td>0.0</td>\n",
       "      <td>0.0</td>\n",
       "      <td>2.0</td>\n",
       "    </tr>\n",
       "    <tr>\n",
       "      <th>samos-214-_jpg.rf.a0f47c396dd83f83023bb0bd835e6019</th>\n",
       "      <td>0.0</td>\n",
       "      <td>0.0</td>\n",
       "      <td>0.0</td>\n",
       "      <td>0.0</td>\n",
       "      <td>0.0</td>\n",
       "      <td>2.0</td>\n",
       "    </tr>\n",
       "    <tr>\n",
       "      <th>samos-219-_jpg.rf.437520264886f45e41d9b8beb8c0aaff</th>\n",
       "      <td>0.0</td>\n",
       "      <td>0.0</td>\n",
       "      <td>0.0</td>\n",
       "      <td>0.0</td>\n",
       "      <td>4.0</td>\n",
       "      <td>0.0</td>\n",
       "    </tr>\n",
       "    <tr>\n",
       "      <th>samos-223-_jpg.rf.27eae3b4d9dc9b79e83a786eba296ddf</th>\n",
       "      <td>0.0</td>\n",
       "      <td>0.0</td>\n",
       "      <td>0.0</td>\n",
       "      <td>0.0</td>\n",
       "      <td>0.0</td>\n",
       "      <td>5.0</td>\n",
       "    </tr>\n",
       "    <tr>\n",
       "      <th>samos-223-_jpg.rf.af15c414c9bb86f24f0722a68167c12c</th>\n",
       "      <td>0.0</td>\n",
       "      <td>0.0</td>\n",
       "      <td>0.0</td>\n",
       "      <td>0.0</td>\n",
       "      <td>0.0</td>\n",
       "      <td>5.0</td>\n",
       "    </tr>\n",
       "  </tbody>\n",
       "</table>\n",
       "<p>3516 rows × 6 columns</p>\n",
       "</div>"
      ],
      "text/plain": [
       "                                                      0    1     2    3    4  \\\n",
       "00000001_resized_png.rf.96da3a5cd0e190e00aa4f24...  0.0  0.0   7.0  0.0  0.0   \n",
       "00000002_resized_png.rf.17018bf1b1ef711c31e89e3...  0.0  0.0  16.0  0.0  0.0   \n",
       "00000002_resized_png.rf.71c93ebfd030ffad185e53d...  0.0  0.0  16.0  0.0  0.0   \n",
       "00000006_resized_png.rf.3eed21752d5275f1dcafe7f...  0.0  0.0  17.0  0.0  0.0   \n",
       "00000006_resized_png.rf.48bdac5b83c70bbeeff4658...  0.0  0.0  17.0  0.0  0.0   \n",
       "...                                                 ...  ...   ...  ...  ...   \n",
       "samos-214-_jpg.rf.8a60dd9b70a16bc815f62f4e6fba15af  0.0  0.0   0.0  0.0  0.0   \n",
       "samos-214-_jpg.rf.a0f47c396dd83f83023bb0bd835e6019  0.0  0.0   0.0  0.0  0.0   \n",
       "samos-219-_jpg.rf.437520264886f45e41d9b8beb8c0aaff  0.0  0.0   0.0  0.0  4.0   \n",
       "samos-223-_jpg.rf.27eae3b4d9dc9b79e83a786eba296ddf  0.0  0.0   0.0  0.0  0.0   \n",
       "samos-223-_jpg.rf.af15c414c9bb86f24f0722a68167c12c  0.0  0.0   0.0  0.0  0.0   \n",
       "\n",
       "                                                      5  \n",
       "00000001_resized_png.rf.96da3a5cd0e190e00aa4f24...  0.0  \n",
       "00000002_resized_png.rf.17018bf1b1ef711c31e89e3...  0.0  \n",
       "00000002_resized_png.rf.71c93ebfd030ffad185e53d...  0.0  \n",
       "00000006_resized_png.rf.3eed21752d5275f1dcafe7f...  0.0  \n",
       "00000006_resized_png.rf.48bdac5b83c70bbeeff4658...  0.0  \n",
       "...                                                 ...  \n",
       "samos-214-_jpg.rf.8a60dd9b70a16bc815f62f4e6fba15af  2.0  \n",
       "samos-214-_jpg.rf.a0f47c396dd83f83023bb0bd835e6019  2.0  \n",
       "samos-219-_jpg.rf.437520264886f45e41d9b8beb8c0aaff  0.0  \n",
       "samos-223-_jpg.rf.27eae3b4d9dc9b79e83a786eba296ddf  5.0  \n",
       "samos-223-_jpg.rf.af15c414c9bb86f24f0722a68167c12c  5.0  \n",
       "\n",
       "[3516 rows x 6 columns]"
      ]
     },
     "execution_count": 6,
     "metadata": {},
     "output_type": "execute_result"
    }
   ],
   "source": [
    "for label in labels:\n",
    "    lbl_counter = Counter()\n",
    "\n",
    "    with open(label,'r') as lf:\n",
    "        lines = lf.readlines()\n",
    "\n",
    "    for l in lines:\n",
    "        # classes for YOLO label uses integer at first position of each line\n",
    "        lbl_counter[int(l.split(' ')[0])] += 1\n",
    "\n",
    "    labels_df.loc[label.stem] = lbl_counter\n",
    "\n",
    "labels_df = labels_df.fillna(0.0) # replace `nan` values with `0.0`\n",
    "labels_df"
   ]
  },
  {
   "cell_type": "code",
   "execution_count": 7,
   "id": "7720b8d0",
   "metadata": {
    "execution": {
     "iopub.execute_input": "2025-07-07T13:50:39.874875Z",
     "iopub.status.busy": "2025-07-07T13:50:39.874575Z",
     "iopub.status.idle": "2025-07-07T13:50:39.879895Z",
     "shell.execute_reply": "2025-07-07T13:50:39.879210Z"
    },
    "papermill": {
     "duration": 0.027191,
     "end_time": "2025-07-07T13:50:39.880958",
     "exception": false,
     "start_time": "2025-07-07T13:50:39.853767",
     "status": "completed"
    },
    "tags": []
   },
   "outputs": [],
   "source": [
    "ksplit = 5\n",
    "kf = KFold(n_splits=ksplit, shuffle=True, random_state=20)   # setting random_state for repeatable results\n",
    "\n",
    "kfolds = list(kf.split(labels_df))"
   ]
  },
  {
   "cell_type": "code",
   "execution_count": 8,
   "id": "d9b87e97",
   "metadata": {
    "execution": {
     "iopub.execute_input": "2025-07-07T13:50:39.921179Z",
     "iopub.status.busy": "2025-07-07T13:50:39.920967Z",
     "iopub.status.idle": "2025-07-07T13:50:39.934981Z",
     "shell.execute_reply": "2025-07-07T13:50:39.934315Z"
    },
    "papermill": {
     "duration": 0.035174,
     "end_time": "2025-07-07T13:50:39.936065",
     "exception": false,
     "start_time": "2025-07-07T13:50:39.900891",
     "status": "completed"
    },
    "tags": []
   },
   "outputs": [],
   "source": [
    "folds = [f'split_{n}' for n in range(1, ksplit + 1)]\n",
    "fold_lbl_distrb = pd.DataFrame(index=folds, columns=cls_idx)\n",
    "\n",
    "for n, (train_indices, val_indices) in enumerate(kfolds, start=1):\n",
    "    train_totals = labels_df.iloc[train_indices].sum()\n",
    "    val_totals = labels_df.iloc[val_indices].sum()\n",
    "\n",
    "    # To avoid division by zero, we add a small value (1E-7) to the denominator\n",
    "    ratio = val_totals / (train_totals + 1E-7)\n",
    "    fold_lbl_distrb.loc[f'split_{n}'] = ratio"
   ]
  },
  {
   "cell_type": "code",
   "execution_count": 9,
   "id": "60afb9ee",
   "metadata": {
    "execution": {
     "iopub.execute_input": "2025-07-07T13:50:40.019035Z",
     "iopub.status.busy": "2025-07-07T13:50:40.018767Z",
     "iopub.status.idle": "2025-07-07T13:50:40.026262Z",
     "shell.execute_reply": "2025-07-07T13:50:40.025752Z"
    },
    "papermill": {
     "duration": 0.071712,
     "end_time": "2025-07-07T13:50:40.027311",
     "exception": false,
     "start_time": "2025-07-07T13:50:39.955599",
     "status": "completed"
    },
    "tags": []
   },
   "outputs": [
    {
     "data": {
      "text/html": [
       "<div>\n",
       "<style scoped>\n",
       "    .dataframe tbody tr th:only-of-type {\n",
       "        vertical-align: middle;\n",
       "    }\n",
       "\n",
       "    .dataframe tbody tr th {\n",
       "        vertical-align: top;\n",
       "    }\n",
       "\n",
       "    .dataframe thead th {\n",
       "        text-align: right;\n",
       "    }\n",
       "</style>\n",
       "<table border=\"1\" class=\"dataframe\">\n",
       "  <thead>\n",
       "    <tr style=\"text-align: right;\">\n",
       "      <th></th>\n",
       "      <th>0</th>\n",
       "      <th>1</th>\n",
       "      <th>2</th>\n",
       "      <th>3</th>\n",
       "      <th>4</th>\n",
       "      <th>5</th>\n",
       "    </tr>\n",
       "  </thead>\n",
       "  <tbody>\n",
       "    <tr>\n",
       "      <th>split_1</th>\n",
       "      <td>0.282667</td>\n",
       "      <td>0.268872</td>\n",
       "      <td>0.25446</td>\n",
       "      <td>0.23221</td>\n",
       "      <td>0.23491</td>\n",
       "      <td>0.23842</td>\n",
       "    </tr>\n",
       "    <tr>\n",
       "      <th>split_2</th>\n",
       "      <td>0.222363</td>\n",
       "      <td>0.240464</td>\n",
       "      <td>0.234383</td>\n",
       "      <td>0.287671</td>\n",
       "      <td>0.23491</td>\n",
       "      <td>0.231707</td>\n",
       "    </tr>\n",
       "    <tr>\n",
       "      <th>split_3</th>\n",
       "      <td>0.236504</td>\n",
       "      <td>0.272109</td>\n",
       "      <td>0.286175</td>\n",
       "      <td>0.234522</td>\n",
       "      <td>0.259567</td>\n",
       "      <td>0.245205</td>\n",
       "    </tr>\n",
       "    <tr>\n",
       "      <th>split_4</th>\n",
       "      <td>0.254237</td>\n",
       "      <td>0.240464</td>\n",
       "      <td>0.231839</td>\n",
       "      <td>0.202925</td>\n",
       "      <td>0.263773</td>\n",
       "      <td>0.288448</td>\n",
       "    </tr>\n",
       "    <tr>\n",
       "      <th>split_5</th>\n",
       "      <td>0.255875</td>\n",
       "      <td>0.229252</td>\n",
       "      <td>0.244664</td>\n",
       "      <td>0.29783</td>\n",
       "      <td>0.257475</td>\n",
       "      <td>0.247769</td>\n",
       "    </tr>\n",
       "  </tbody>\n",
       "</table>\n",
       "</div>"
      ],
      "text/plain": [
       "                0         1         2         3         4         5\n",
       "split_1  0.282667  0.268872   0.25446   0.23221   0.23491   0.23842\n",
       "split_2  0.222363  0.240464  0.234383  0.287671   0.23491  0.231707\n",
       "split_3  0.236504  0.272109  0.286175  0.234522  0.259567  0.245205\n",
       "split_4  0.254237  0.240464  0.231839  0.202925  0.263773  0.288448\n",
       "split_5  0.255875  0.229252  0.244664   0.29783  0.257475  0.247769"
      ]
     },
     "execution_count": 9,
     "metadata": {},
     "output_type": "execute_result"
    }
   ],
   "source": [
    "fold_lbl_distrb\n"
   ]
  },
  {
   "cell_type": "code",
   "execution_count": 10,
   "id": "36414ac6",
   "metadata": {
    "execution": {
     "iopub.execute_input": "2025-07-07T13:50:40.068163Z",
     "iopub.status.busy": "2025-07-07T13:50:40.067440Z",
     "iopub.status.idle": "2025-07-07T13:50:40.084176Z",
     "shell.execute_reply": "2025-07-07T13:50:40.083403Z"
    },
    "papermill": {
     "duration": 0.038057,
     "end_time": "2025-07-07T13:50:40.085239",
     "exception": false,
     "start_time": "2025-07-07T13:50:40.047182",
     "status": "completed"
    },
    "tags": []
   },
   "outputs": [
    {
     "name": "stdout",
     "output_type": "stream",
     "text": [
      "Yaml Paths\n",
      "['Main-DATA/kfold/data_0.yaml', 'Main-DATA/kfold/data_1.yaml', 'Main-DATA/kfold/data_2.yaml', 'Main-DATA/kfold/data_3.yaml', 'Main-DATA/kfold/data_4.yaml']\n"
     ]
    }
   ],
   "source": [
    "kfold_base_path = Path('Main-DATA/kfold')\n",
    "shutil.rmtree(kfold_base_path) if kfold_base_path.is_dir() else None # Remove existing folder\n",
    "os.makedirs(str(kfold_base_path)) # Create nww folder\n",
    "yaml_paths = list()\n",
    "train_txt_paths = list()\n",
    "val_txt_paths = list()\n",
    "for i, (train_idx, val_idx) in enumerate(kfolds):\n",
    "    # Get image paths for train-val split\n",
    "    train_paths = [image_paths[j] for j in train_idx]\n",
    "    val_paths = [image_paths[j] for j in val_idx]\n",
    "    # Create text files to store image paths\n",
    "    train_txt = kfold_base_path / f\"train_{i}.txt\"\n",
    "    val_txt =  kfold_base_path / f\"val_{i}.txt\"\n",
    "\n",
    "    # Write images paths for training and validation in split i\n",
    "    with open(str(train_txt), 'w') as f:\n",
    "        f.writelines(s + '\\n' for s in train_paths)\n",
    "    with open(str(val_txt), 'w') as f:\n",
    "        f.writelines(s + '\\n' for s in val_paths)\n",
    "\n",
    "    train_txt_paths.append(str(train_txt))\n",
    "    val_txt_paths.append(str(val_txt))\n",
    "\n",
    "    # Create yaml file\n",
    "    yaml_path = kfold_base_path / f'data_{i}.yaml'\n",
    "    with open(yaml_path, 'w') as ds_y:\n",
    "        yaml.safe_dump({\n",
    "            'train': str(train_txt.name),\n",
    "            'val': str(val_txt.name),\n",
    "            'names': classes\n",
    "        }, ds_y)\n",
    "    yaml_paths.append(str(yaml_path))\n",
    "print(\"Yaml Paths\")\n",
    "print(yaml_paths)"
   ]
  },
  {
   "cell_type": "code",
   "execution_count": 11,
   "id": "71895ff3",
   "metadata": {
    "execution": {
     "iopub.execute_input": "2025-07-07T13:50:40.126180Z",
     "iopub.status.busy": "2025-07-07T13:50:40.125752Z",
     "iopub.status.idle": "2025-07-07T13:50:40.391631Z",
     "shell.execute_reply": "2025-07-07T13:50:40.390761Z"
    },
    "papermill": {
     "duration": 0.288109,
     "end_time": "2025-07-07T13:50:40.393275",
     "exception": false,
     "start_time": "2025-07-07T13:50:40.105166",
     "status": "completed"
    },
    "tags": []
   },
   "outputs": [
    {
     "name": "stdout",
     "output_type": "stream",
     "text": [
      "data_0.yaml File: \n",
      "\n",
      "names:\r\n",
      "- Beguni\r\n",
      "- Coin\r\n",
      "- Peaju\r\n",
      "- Puri\r\n",
      "- Singara\r\n",
      "- Somusa\r\n",
      "train: train_0.txt\r\n",
      "val: val_0.txt\r\n",
      "\n",
      "train_0.txt first two lines: \n",
      "\n",
      "/kaggle/working/ALL_DATASET/full_dataset/images/IMG_20241117_134153_jpg.rf.fb367da1f5d6a25c21f26e1c4fdfe090.jpg\r\n",
      "/kaggle/working/ALL_DATASET/full_dataset/images/IMG_20241112_134050_jpg.rf.fe05d2f539e355de4dbef5969fa1d768.jpg\r\n",
      "cat: write error: Broken pipe\r\n"
     ]
    }
   ],
   "source": [
    "print(\"data_0.yaml File: \\n\")\n",
    "!cat Main-DATA/kfold/data_0.yaml\n",
    "\n",
    "print(\"\\ntrain_0.txt first two lines: \\n\")\n",
    "!cat Main-DATA/kfold/train_0.txt | head -n 2"
   ]
  },
  {
   "cell_type": "code",
   "execution_count": 12,
   "id": "32b6d220",
   "metadata": {
    "execution": {
     "iopub.execute_input": "2025-07-07T13:50:40.434395Z",
     "iopub.status.busy": "2025-07-07T13:50:40.434167Z",
     "iopub.status.idle": "2025-07-07T22:29:54.609306Z",
     "shell.execute_reply": "2025-07-07T22:29:54.608388Z"
    },
    "papermill": {
     "duration": 31154.206083,
     "end_time": "2025-07-07T22:29:54.619521",
     "exception": false,
     "start_time": "2025-07-07T13:50:40.413438",
     "status": "completed"
    },
    "tags": []
   },
   "outputs": [],
   "source": [
    "from IPython.display import clear_output\n",
    "import time\n",
    "os.environ['WANDB_DISABLED'] = 'true'\n",
    "\n",
    "epochs = 125\n",
    "optimizer=\"AdamW\"\n",
    "lr0=0.001\n",
    "pretrained=True\n",
    "imgsz=640\n",
    "batch = 32\n",
    "project = 'kfold_demo'\n",
    "\n",
    "\n",
    "results = list()\n",
    "\n",
    "for i in range(ksplit):\n",
    "    model = YOLO('yolov8n-seg.pt')\n",
    "    dataset_yaml = \"/kaggle/working/\" + yaml_paths[i]\n",
    "    print(f\"Training for fold={i} using {dataset_yaml}\")\n",
    "    model.train(data=dataset_yaml, batch=batch, project=project, epochs=epochs, verbose=False, workers=28)\n",
    "    result = model.metrics # Metrics on validation set\n",
    "    results.append(result) # save output metrics for further analysis\n",
    "    clear_output()"
   ]
  },
  {
   "cell_type": "code",
   "execution_count": 13,
   "id": "634e9b50",
   "metadata": {
    "execution": {
     "iopub.execute_input": "2025-07-07T22:29:54.664273Z",
     "iopub.status.busy": "2025-07-07T22:29:54.664030Z",
     "iopub.status.idle": "2025-07-07T22:29:54.693763Z",
     "shell.execute_reply": "2025-07-07T22:29:54.692897Z"
    },
    "papermill": {
     "duration": 0.05323,
     "end_time": "2025-07-07T22:29:54.695197",
     "exception": false,
     "start_time": "2025-07-07T22:29:54.641967",
     "status": "completed"
    },
    "tags": []
   },
   "outputs": [
    {
     "data": {
      "text/html": [
       "<div>\n",
       "<style scoped>\n",
       "    .dataframe tbody tr th:only-of-type {\n",
       "        vertical-align: middle;\n",
       "    }\n",
       "\n",
       "    .dataframe tbody tr th {\n",
       "        vertical-align: top;\n",
       "    }\n",
       "\n",
       "    .dataframe thead th {\n",
       "        text-align: right;\n",
       "    }\n",
       "</style>\n",
       "<table border=\"1\" class=\"dataframe\">\n",
       "  <thead>\n",
       "    <tr style=\"text-align: right;\">\n",
       "      <th></th>\n",
       "      <th>metrics/precision(B)</th>\n",
       "      <th>metrics/recall(B)</th>\n",
       "      <th>metrics/mAP50(B)</th>\n",
       "      <th>metrics/mAP50-95(B)</th>\n",
       "      <th>metrics/precision(M)</th>\n",
       "      <th>metrics/recall(M)</th>\n",
       "      <th>metrics/mAP50(M)</th>\n",
       "      <th>metrics/mAP50-95(M)</th>\n",
       "      <th>fitness</th>\n",
       "    </tr>\n",
       "  </thead>\n",
       "  <tbody>\n",
       "    <tr>\n",
       "      <th>mean</th>\n",
       "      <td>0.970413</td>\n",
       "      <td>0.962566</td>\n",
       "      <td>0.984416</td>\n",
       "      <td>0.924667</td>\n",
       "      <td>0.964465</td>\n",
       "      <td>0.950944</td>\n",
       "      <td>0.973738</td>\n",
       "      <td>0.871537</td>\n",
       "      <td>1.812399</td>\n",
       "    </tr>\n",
       "    <tr>\n",
       "      <th>std</th>\n",
       "      <td>0.008221</td>\n",
       "      <td>0.008711</td>\n",
       "      <td>0.004083</td>\n",
       "      <td>0.006197</td>\n",
       "      <td>0.010986</td>\n",
       "      <td>0.004649</td>\n",
       "      <td>0.004997</td>\n",
       "      <td>0.010028</td>\n",
       "      <td>0.015028</td>\n",
       "    </tr>\n",
       "    <tr>\n",
       "      <th>min</th>\n",
       "      <td>0.959936</td>\n",
       "      <td>0.956997</td>\n",
       "      <td>0.978415</td>\n",
       "      <td>0.918764</td>\n",
       "      <td>0.951070</td>\n",
       "      <td>0.948111</td>\n",
       "      <td>0.965480</td>\n",
       "      <td>0.858496</td>\n",
       "      <td>1.793923</td>\n",
       "    </tr>\n",
       "    <tr>\n",
       "      <th>max</th>\n",
       "      <td>0.978481</td>\n",
       "      <td>0.977633</td>\n",
       "      <td>0.989172</td>\n",
       "      <td>0.934352</td>\n",
       "      <td>0.977213</td>\n",
       "      <td>0.959221</td>\n",
       "      <td>0.978367</td>\n",
       "      <td>0.884915</td>\n",
       "      <td>1.834094</td>\n",
       "    </tr>\n",
       "  </tbody>\n",
       "</table>\n",
       "</div>"
      ],
      "text/plain": [
       "      metrics/precision(B)  metrics/recall(B)  metrics/mAP50(B)  \\\n",
       "mean              0.970413           0.962566          0.984416   \n",
       "std               0.008221           0.008711          0.004083   \n",
       "min               0.959936           0.956997          0.978415   \n",
       "max               0.978481           0.977633          0.989172   \n",
       "\n",
       "      metrics/mAP50-95(B)  metrics/precision(M)  metrics/recall(M)  \\\n",
       "mean             0.924667              0.964465           0.950944   \n",
       "std              0.006197              0.010986           0.004649   \n",
       "min              0.918764              0.951070           0.948111   \n",
       "max              0.934352              0.977213           0.959221   \n",
       "\n",
       "      metrics/mAP50(M)  metrics/mAP50-95(M)   fitness  \n",
       "mean          0.973738             0.871537  1.812399  \n",
       "std           0.004997             0.010028  0.015028  \n",
       "min           0.965480             0.858496  1.793923  \n",
       "max           0.978367             0.884915  1.834094  "
      ]
     },
     "execution_count": 13,
     "metadata": {},
     "output_type": "execute_result"
    }
   ],
   "source": [
    "metric_values = dict()\n",
    "\n",
    "for result in results:\n",
    "    for metric, metric_val in result.results_dict.items():\n",
    "        if metric not in metric_values:\n",
    "            metric_values[metric] = []\n",
    "        metric_values[metric].append(metric_val)\n",
    "\n",
    "metric_df = pd.DataFrame.from_dict(metric_values)\n",
    "visualize_metric = ['mean', 'std', 'min', 'max']\n",
    "metric_df.describe().loc[visualize_metric]"
   ]
  },
  {
   "cell_type": "code",
   "execution_count": 14,
   "id": "d2a44268",
   "metadata": {
    "execution": {
     "iopub.execute_input": "2025-07-07T22:29:54.747142Z",
     "iopub.status.busy": "2025-07-07T22:29:54.746608Z",
     "iopub.status.idle": "2025-07-07T22:29:54.778074Z",
     "shell.execute_reply": "2025-07-07T22:29:54.777292Z"
    },
    "papermill": {
     "duration": 0.054834,
     "end_time": "2025-07-07T22:29:54.779234",
     "exception": false,
     "start_time": "2025-07-07T22:29:54.724400",
     "status": "completed"
    },
    "tags": []
   },
   "outputs": [
    {
     "name": "stdout",
     "output_type": "stream",
     "text": [
      "Metric values per fold:\n",
      "   metrics/precision(B)  metrics/recall(B)  metrics/mAP50(B)  \\\n",
      "0              0.959936           0.958460          0.982717   \n",
      "1              0.978481           0.977633          0.989172   \n",
      "2              0.970942           0.962524          0.986531   \n",
      "3              0.964519           0.957215          0.978415   \n",
      "4              0.978189           0.956997          0.985246   \n",
      "\n",
      "   metrics/mAP50-95(B)  metrics/precision(M)  metrics/recall(M)  \\\n",
      "0             0.920143              0.951070           0.949032   \n",
      "1             0.934352              0.977213           0.959221   \n",
      "2             0.923583              0.968046           0.949059   \n",
      "3             0.918764              0.955135           0.949298   \n",
      "4             0.926493              0.970862           0.948111   \n",
      "\n",
      "   metrics/mAP50(M)  metrics/mAP50-95(M)   fitness  \n",
      "0          0.973008             0.871133  1.807721  \n",
      "1          0.978367             0.884915  1.834094  \n",
      "2          0.976241             0.866421  1.807281  \n",
      "3          0.965480             0.858496  1.793923  \n",
      "4          0.975594             0.876722  1.818978  \n",
      "\n",
      "Descriptive statistics:\n",
      "      metrics/precision(B)  metrics/recall(B)  metrics/mAP50(B)  \\\n",
      "mean              0.970413           0.962566          0.984416   \n",
      "std               0.008221           0.008711          0.004083   \n",
      "min               0.959936           0.956997          0.978415   \n",
      "max               0.978481           0.977633          0.989172   \n",
      "\n",
      "      metrics/mAP50-95(B)  metrics/precision(M)  metrics/recall(M)  \\\n",
      "mean             0.924667              0.964465           0.950944   \n",
      "std              0.006197              0.010986           0.004649   \n",
      "min              0.918764              0.951070           0.948111   \n",
      "max              0.934352              0.977213           0.959221   \n",
      "\n",
      "      metrics/mAP50(M)  metrics/mAP50-95(M)   fitness  \n",
      "mean          0.973738             0.871537  1.812399  \n",
      "std           0.004997             0.010028  0.015028  \n",
      "min           0.965480             0.858496  1.793923  \n",
      "max           0.978367             0.884915  1.834094  \n"
     ]
    }
   ],
   "source": [
    "import pandas as pd\n",
    "\n",
    "# Assuming `results` is a list of objects, each with a `results_dict` attribute (a dictionary of metrics)\n",
    "metric_values = dict()\n",
    "\n",
    "# Collect metrics from all results\n",
    "for result in results:\n",
    "    for metric, metric_val in result.results_dict.items():\n",
    "        if metric not in metric_values:\n",
    "            metric_values[metric] = []\n",
    "        metric_values[metric].append(metric_val)\n",
    "\n",
    "# Create DataFrame where each column is a metric and each row is a fold\n",
    "metric_df = pd.DataFrame.from_dict(metric_values)\n",
    "\n",
    "# Show values for each fold\n",
    "print(\"Metric values per fold:\")\n",
    "print(metric_df)\n",
    "\n",
    "# Show selected statistics\n",
    "visualize_metric = ['mean', 'std', 'min', 'max']\n",
    "print(\"\\nDescriptive statistics:\")\n",
    "print(metric_df.describe().loc[visualize_metric])\n"
   ]
  }
 ],
 "metadata": {
  "kaggle": {
   "accelerator": "nvidiaTeslaT4",
   "dataSources": [
    {
     "datasetId": 6331210,
     "sourceId": 10238206,
     "sourceType": "datasetVersion"
    }
   ],
   "dockerImageVersionId": 31041,
   "isGpuEnabled": true,
   "isInternetEnabled": true,
   "language": "python",
   "sourceType": "notebook"
  },
  "kernelspec": {
   "display_name": "Python 3",
   "language": "python",
   "name": "python3"
  },
  "language_info": {
   "codemirror_mode": {
    "name": "ipython",
    "version": 3
   },
   "file_extension": ".py",
   "mimetype": "text/x-python",
   "name": "python",
   "nbconvert_exporter": "python",
   "pygments_lexer": "ipython3",
   "version": "3.11.11"
  },
  "papermill": {
   "default_parameters": {},
   "duration": 31279.106938,
   "end_time": "2025-07-07T22:29:58.161080",
   "environment_variables": {},
   "exception": null,
   "input_path": "__notebook__.ipynb",
   "output_path": "__notebook__.ipynb",
   "parameters": {},
   "start_time": "2025-07-07T13:48:39.054142",
   "version": "2.6.0"
  }
 },
 "nbformat": 4,
 "nbformat_minor": 5
}
